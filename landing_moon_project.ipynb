{
  "cells": [
    {
      "cell_type": "markdown",
      "metadata": {
        "id": "slEm5teGWjWU"
      },
      "source": [
        "### Installing Gymnasium"
      ]
    },
    {
      "cell_type": "code",
      "execution_count": null,
      "metadata": {
        "id": "dbnq3XpoKa_7",
        "colab": {
          "base_uri": "https://localhost:8080/"
        },
        "outputId": "58607379-3a33-4fed-c49a-73ac79ddc7bc"
      },
      "outputs": [
        {
          "output_type": "stream",
          "name": "stdout",
          "text": [
            "Collecting gymnasium\n",
            "  Downloading gymnasium-0.29.1-py3-none-any.whl (953 kB)\n",
            "\u001b[?25l     \u001b[90m━━━━━━━━━━━━━━━━━━━━━━━━━━━━━━━━━━━━━━━━\u001b[0m \u001b[32m0.0/953.9 kB\u001b[0m \u001b[31m?\u001b[0m eta \u001b[36m-:--:--\u001b[0m\r\u001b[2K     \u001b[91m━━━━━━━━━━━━━━━━━━\u001b[0m\u001b[91m╸\u001b[0m\u001b[90m━━━━━━━━━━━━━━━━━━━━━\u001b[0m \u001b[32m450.6/953.9 kB\u001b[0m \u001b[31m13.4 MB/s\u001b[0m eta \u001b[36m0:00:01\u001b[0m\r\u001b[2K     \u001b[90m━━━━━━━━━━━━━━━━━━━━━━━━━━━━━━━━━━━━━━━━\u001b[0m \u001b[32m953.9/953.9 kB\u001b[0m \u001b[31m14.8 MB/s\u001b[0m eta \u001b[36m0:00:00\u001b[0m\n",
            "\u001b[?25hRequirement already satisfied: numpy>=1.21.0 in /usr/local/lib/python3.10/dist-packages (from gymnasium) (1.25.2)\n",
            "Requirement already satisfied: cloudpickle>=1.2.0 in /usr/local/lib/python3.10/dist-packages (from gymnasium) (2.2.1)\n",
            "Requirement already satisfied: typing-extensions>=4.3.0 in /usr/local/lib/python3.10/dist-packages (from gymnasium) (4.12.2)\n",
            "Collecting farama-notifications>=0.0.1 (from gymnasium)\n",
            "  Downloading Farama_Notifications-0.0.4-py3-none-any.whl (2.5 kB)\n",
            "Installing collected packages: farama-notifications, gymnasium\n",
            "Successfully installed farama-notifications-0.0.4 gymnasium-0.29.1\n",
            "Requirement already satisfied: gymnasium[accept-rom-license,atari] in /usr/local/lib/python3.10/dist-packages (0.29.1)\n",
            "Requirement already satisfied: numpy>=1.21.0 in /usr/local/lib/python3.10/dist-packages (from gymnasium[accept-rom-license,atari]) (1.25.2)\n",
            "Requirement already satisfied: cloudpickle>=1.2.0 in /usr/local/lib/python3.10/dist-packages (from gymnasium[accept-rom-license,atari]) (2.2.1)\n",
            "Requirement already satisfied: typing-extensions>=4.3.0 in /usr/local/lib/python3.10/dist-packages (from gymnasium[accept-rom-license,atari]) (4.12.2)\n",
            "Requirement already satisfied: farama-notifications>=0.0.1 in /usr/local/lib/python3.10/dist-packages (from gymnasium[accept-rom-license,atari]) (0.0.4)\n",
            "Collecting autorom[accept-rom-license]~=0.4.2 (from gymnasium[accept-rom-license,atari])\n",
            "  Downloading AutoROM-0.4.2-py3-none-any.whl (16 kB)\n",
            "Collecting shimmy[atari]<1.0,>=0.1.0 (from gymnasium[accept-rom-license,atari])\n",
            "  Downloading Shimmy-0.2.1-py3-none-any.whl (25 kB)\n",
            "Requirement already satisfied: click in /usr/local/lib/python3.10/dist-packages (from autorom[accept-rom-license]~=0.4.2->gymnasium[accept-rom-license,atari]) (8.1.7)\n",
            "Requirement already satisfied: requests in /usr/local/lib/python3.10/dist-packages (from autorom[accept-rom-license]~=0.4.2->gymnasium[accept-rom-license,atari]) (2.31.0)\n",
            "Requirement already satisfied: tqdm in /usr/local/lib/python3.10/dist-packages (from autorom[accept-rom-license]~=0.4.2->gymnasium[accept-rom-license,atari]) (4.66.4)\n",
            "Collecting AutoROM.accept-rom-license (from autorom[accept-rom-license]~=0.4.2->gymnasium[accept-rom-license,atari])\n",
            "  Downloading AutoROM.accept-rom-license-0.6.1.tar.gz (434 kB)\n",
            "\u001b[2K     \u001b[90m━━━━━━━━━━━━━━━━━━━━━━━━━━━━━━━━━━━━━━━━\u001b[0m \u001b[32m434.7/434.7 kB\u001b[0m \u001b[31m7.4 MB/s\u001b[0m eta \u001b[36m0:00:00\u001b[0m\n",
            "\u001b[?25h  Installing build dependencies ... \u001b[?25l\u001b[?25hdone\n",
            "  Getting requirements to build wheel ... \u001b[?25l\u001b[?25hdone\n",
            "  Preparing metadata (pyproject.toml) ... \u001b[?25l\u001b[?25hdone\n",
            "Collecting ale-py~=0.8.1 (from shimmy[atari]<1.0,>=0.1.0->gymnasium[accept-rom-license,atari])\n",
            "  Downloading ale_py-0.8.1-cp310-cp310-manylinux_2_17_x86_64.manylinux2014_x86_64.whl (1.7 MB)\n",
            "\u001b[2K     \u001b[90m━━━━━━━━━━━━━━━━━━━━━━━━━━━━━━━━━━━━━━━━\u001b[0m \u001b[32m1.7/1.7 MB\u001b[0m \u001b[31m14.2 MB/s\u001b[0m eta \u001b[36m0:00:00\u001b[0m\n",
            "\u001b[?25hRequirement already satisfied: importlib-resources in /usr/local/lib/python3.10/dist-packages (from ale-py~=0.8.1->shimmy[atari]<1.0,>=0.1.0->gymnasium[accept-rom-license,atari]) (6.4.0)\n",
            "Requirement already satisfied: charset-normalizer<4,>=2 in /usr/local/lib/python3.10/dist-packages (from requests->autorom[accept-rom-license]~=0.4.2->gymnasium[accept-rom-license,atari]) (3.3.2)\n",
            "Requirement already satisfied: idna<4,>=2.5 in /usr/local/lib/python3.10/dist-packages (from requests->autorom[accept-rom-license]~=0.4.2->gymnasium[accept-rom-license,atari]) (3.7)\n",
            "Requirement already satisfied: urllib3<3,>=1.21.1 in /usr/local/lib/python3.10/dist-packages (from requests->autorom[accept-rom-license]~=0.4.2->gymnasium[accept-rom-license,atari]) (2.0.7)\n",
            "Requirement already satisfied: certifi>=2017.4.17 in /usr/local/lib/python3.10/dist-packages (from requests->autorom[accept-rom-license]~=0.4.2->gymnasium[accept-rom-license,atari]) (2024.6.2)\n",
            "Building wheels for collected packages: AutoROM.accept-rom-license\n",
            "  Building wheel for AutoROM.accept-rom-license (pyproject.toml) ... \u001b[?25l\u001b[?25hdone\n",
            "  Created wheel for AutoROM.accept-rom-license: filename=AutoROM.accept_rom_license-0.6.1-py3-none-any.whl size=446663 sha256=8c24f06549c93f0b07673efebd70b79b1b91460b07cd97af529b67445b585550\n",
            "  Stored in directory: /root/.cache/pip/wheels/6b/1b/ef/a43ff1a2f1736d5711faa1ba4c1f61be1131b8899e6a057811\n",
            "Successfully built AutoROM.accept-rom-license\n",
            "Installing collected packages: ale-py, shimmy, AutoROM.accept-rom-license, autorom\n",
            "Successfully installed AutoROM.accept-rom-license-0.6.1 ale-py-0.8.1 autorom-0.4.2 shimmy-0.2.1\n",
            "Reading package lists... Done\n",
            "Building dependency tree... Done\n",
            "Reading state information... Done\n",
            "The following additional packages will be installed:\n",
            "  swig4.0\n",
            "Suggested packages:\n",
            "  swig-doc swig-examples swig4.0-examples swig4.0-doc\n",
            "The following NEW packages will be installed:\n",
            "  swig swig4.0\n",
            "0 upgraded, 2 newly installed, 0 to remove and 45 not upgraded.\n",
            "Need to get 1,116 kB of archives.\n",
            "After this operation, 5,542 kB of additional disk space will be used.\n",
            "Get:1 http://archive.ubuntu.com/ubuntu jammy/universe amd64 swig4.0 amd64 4.0.2-1ubuntu1 [1,110 kB]\n",
            "Get:2 http://archive.ubuntu.com/ubuntu jammy/universe amd64 swig all 4.0.2-1ubuntu1 [5,632 B]\n",
            "Fetched 1,116 kB in 1s (1,389 kB/s)\n",
            "Selecting previously unselected package swig4.0.\n",
            "(Reading database ... 121925 files and directories currently installed.)\n",
            "Preparing to unpack .../swig4.0_4.0.2-1ubuntu1_amd64.deb ...\n",
            "Unpacking swig4.0 (4.0.2-1ubuntu1) ...\n",
            "Selecting previously unselected package swig.\n",
            "Preparing to unpack .../swig_4.0.2-1ubuntu1_all.deb ...\n",
            "Unpacking swig (4.0.2-1ubuntu1) ...\n",
            "Setting up swig4.0 (4.0.2-1ubuntu1) ...\n",
            "Setting up swig (4.0.2-1ubuntu1) ...\n",
            "Processing triggers for man-db (2.10.2-1) ...\n",
            "Requirement already satisfied: gymnasium[box2d] in /usr/local/lib/python3.10/dist-packages (0.29.1)\n",
            "Requirement already satisfied: numpy>=1.21.0 in /usr/local/lib/python3.10/dist-packages (from gymnasium[box2d]) (1.25.2)\n",
            "Requirement already satisfied: cloudpickle>=1.2.0 in /usr/local/lib/python3.10/dist-packages (from gymnasium[box2d]) (2.2.1)\n",
            "Requirement already satisfied: typing-extensions>=4.3.0 in /usr/local/lib/python3.10/dist-packages (from gymnasium[box2d]) (4.12.2)\n",
            "Requirement already satisfied: farama-notifications>=0.0.1 in /usr/local/lib/python3.10/dist-packages (from gymnasium[box2d]) (0.0.4)\n",
            "Collecting box2d-py==2.3.5 (from gymnasium[box2d])\n",
            "  Downloading box2d-py-2.3.5.tar.gz (374 kB)\n",
            "\u001b[2K     \u001b[90m━━━━━━━━━━━━━━━━━━━━━━━━━━━━━━━━━━━━━━━━\u001b[0m \u001b[32m374.4/374.4 kB\u001b[0m \u001b[31m5.7 MB/s\u001b[0m eta \u001b[36m0:00:00\u001b[0m\n",
            "\u001b[?25h  Preparing metadata (setup.py) ... \u001b[?25l\u001b[?25hdone\n",
            "Requirement already satisfied: pygame>=2.1.3 in /usr/local/lib/python3.10/dist-packages (from gymnasium[box2d]) (2.5.2)\n",
            "Collecting swig==4.* (from gymnasium[box2d])\n",
            "  Downloading swig-4.2.1-py2.py3-none-manylinux_2_5_x86_64.manylinux1_x86_64.whl (1.9 MB)\n",
            "\u001b[2K     \u001b[90m━━━━━━━━━━━━━━━━━━━━━━━━━━━━━━━━━━━━━━━━\u001b[0m \u001b[32m1.9/1.9 MB\u001b[0m \u001b[31m13.7 MB/s\u001b[0m eta \u001b[36m0:00:00\u001b[0m\n",
            "\u001b[?25hBuilding wheels for collected packages: box2d-py\n",
            "  Building wheel for box2d-py (setup.py) ... \u001b[?25l\u001b[?25hdone\n",
            "  Created wheel for box2d-py: filename=box2d_py-2.3.5-cp310-cp310-linux_x86_64.whl size=2349116 sha256=050c9a5835ff7734c7d3430ae26a2b69a501153ea203c5dc44b6b5c1f18c4aad\n",
            "  Stored in directory: /root/.cache/pip/wheels/db/8f/6a/eaaadf056fba10a98d986f6dce954e6201ba3126926fc5ad9e\n",
            "Successfully built box2d-py\n",
            "Installing collected packages: swig, box2d-py\n",
            "Successfully installed box2d-py-2.3.5 swig-4.2.1\n"
          ]
        }
      ],
      "source": [
        "!pip install gymnasium\n",
        "!pip install \"gymnasium[atari, accept-rom-license]\"\n",
        "!apt-get install -y swig\n",
        "!pip install gymnasium[box2d]"
      ]
    },
    {
      "cell_type": "markdown",
      "metadata": {
        "id": "brqiMN3UW9T9"
      },
      "source": [
        "### Importing the libraries"
      ]
    },
    {
      "cell_type": "code",
      "execution_count": null,
      "metadata": {
        "id": "mZaKXP_aMl9O"
      },
      "outputs": [],
      "source": [
        "import os\n",
        "import random\n",
        "import numpy as np\n",
        "import torch\n",
        "import torch.nn as nn\n",
        "import torch.optim as optim\n",
        "import torch.nn.functional as F\n",
        "import torch.autograd as autograd\n",
        "from torch.autograd import Variable\n",
        "from collections import deque, namedtuple"
      ]
    },
    {
      "cell_type": "markdown",
      "metadata": {
        "id": "EzlDKXvkXzGI"
      },
      "source": [
        "## Part 1 - Building the AI"
      ]
    },
    {
      "cell_type": "markdown",
      "metadata": {
        "id": "UtG6Zc83YYy3"
      },
      "source": [
        "### Creating the architecture of the Neural Network"
      ]
    },
    {
      "cell_type": "code",
      "source": [
        "class Network(nn.Module):\n",
        "  def __init__(self,state_size,action_size,seed=42):\n",
        "    super(Network,self).__init__()\n",
        "    self.seed=torch.manual_seed(seed)\n",
        "\n",
        "    self.fc1 = nn.Linear(state_size,64)\n",
        "    self.fc2 = nn.Linear(64,64)\n",
        "    self.fc3 = nn.Linear(64,64)\n",
        "    self.fc4 = nn.Linear(64,action_size)\n",
        "\n",
        "  def forward(self,state):\n",
        "    x = self.fc1(state)\n",
        "    x = F.relu(x)\n",
        "    x = self.fc2(x)\n",
        "    x = F.relu(x)\n",
        "    x = self.fc3(x)\n",
        "    x = F.relu(x)\n",
        "    return self.fc4(x)"
      ],
      "metadata": {
        "id": "h9oUxasLEJx9",
        "colab": {
          "base_uri": "https://localhost:8080/"
        },
        "outputId": "6fe06505-9835-40d9-a408-252ec4914473"
      },
      "execution_count": null,
      "outputs": [
        {
          "output_type": "stream",
          "name": "stderr",
          "text": [
            "/usr/local/lib/python3.10/dist-packages/ipykernel/ipkernel.py:283: DeprecationWarning: `should_run_async` will not call `transform_cell` automatically in the future. Please pass the result to `transformed_cell` argument and any exception that happen during thetransform in `preprocessing_exc_tuple` in IPython 7.17 and above.\n",
            "  and should_run_async(code)\n"
          ]
        }
      ]
    },
    {
      "cell_type": "markdown",
      "metadata": {
        "id": "UxVrBnFWZKb1"
      },
      "source": [
        "## Part 2 - Training the AI"
      ]
    },
    {
      "cell_type": "markdown",
      "metadata": {
        "id": "T364fz9qZb2j"
      },
      "source": [
        "### Setting up the environment"
      ]
    },
    {
      "cell_type": "code",
      "source": [
        "import gymnasium as gym\n",
        "env = gym.make('LunarLander-v2')\n",
        "\n",
        "state_shape = env.observation_space.shape\n",
        "state_size = env.observation_space.shape[0]\n",
        "number_actions = env.action_space.n\n",
        "\n",
        "print(\"state shape: \",state_shape)\n",
        "print(\"state size: \",state_size)\n",
        "print(\"number of actions: \",number_actions)"
      ],
      "metadata": {
        "colab": {
          "base_uri": "https://localhost:8080/"
        },
        "id": "NUWiCFWySXIh",
        "outputId": "152176b2-6c51-4dd4-da0f-7476bae2368b"
      },
      "execution_count": null,
      "outputs": [
        {
          "output_type": "stream",
          "name": "stdout",
          "text": [
            "state shape:  (8,)\n",
            "state size:  8\n",
            "number of actions:  4\n"
          ]
        }
      ]
    },
    {
      "cell_type": "markdown",
      "metadata": {
        "id": "c_dZmOIvZgj-"
      },
      "source": [
        "### Initializing the hyperparameters"
      ]
    },
    {
      "cell_type": "code",
      "source": [
        "learning_rate = 5e-4\n",
        "minibatch_size = 100\n",
        "gamma = 0.99\n",
        "replay_buffer_size = int(1e5)\n",
        "interpolation_parameter_tau = 1e-3"
      ],
      "metadata": {
        "id": "bNKnUzj1Oqz8"
      },
      "execution_count": null,
      "outputs": []
    },
    {
      "cell_type": "markdown",
      "metadata": {
        "id": "8hD_Vs-bYnip"
      },
      "source": [
        "### Implementing Experience Replay"
      ]
    },
    {
      "cell_type": "code",
      "source": [
        "class replayMemory(object):\n",
        "  def __init__(self,capacity):\n",
        "    self.device = torch.device(\"cuda:0\" if torch.cuda.is_available() else \"cpu\")\n",
        "    self.capacity = capacity\n",
        "    self.memory =  []\n",
        "\n",
        "  def push(self,event):\n",
        "    self.memory.append(event)\n",
        "    #making sure memory buffer doesnt exceed the capacity\n",
        "    if len(self.memory) >self.capacity:\n",
        "      del self.memory[0]\n",
        "\n",
        "  def sample(self,batch_size):\n",
        "    experiences = random.sample(self.memory, k = batch_size)\n",
        "\n",
        "    #converting to tensor\n",
        "    states = torch.from_numpy(np.vstack([e[0] for e in experiences if e is not None])).float().to(self.device)\n",
        "    actions = torch.from_numpy(np.vstack([e[1] for e in experiences if e is not None])).long().to(self.device)\n",
        "    rewards = torch.from_numpy(np.vstack([e[2] for e in experiences if e is not None])).float().to(self.device)\n",
        "    next_states = torch.from_numpy(np.vstack([e[3] for e in experiences if e is not None])).float().to(self.device)\n",
        "    dones = torch.from_numpy(np.vstack([e[4] for e in experiences if e is not None]).astype(np.uint8)).float().to(self.device)\n",
        "\n",
        "    return states, next_states, actions , rewards, dones\n",
        "\n",
        "\n",
        "\n",
        "\n"
      ],
      "metadata": {
        "id": "QaEChoj_uRoe"
      },
      "execution_count": null,
      "outputs": []
    },
    {
      "cell_type": "markdown",
      "metadata": {
        "id": "JmEkbFbUY6Jt"
      },
      "source": [
        "### Implementing the DQN class"
      ]
    },
    {
      "cell_type": "code",
      "source": [
        "class Agent():\n",
        "  def __init__(self,state_size,action_size):\n",
        "    self.device = torch.device(\"cuda:0\" if torch.cuda.is_available() else \"cpu\")\n",
        "    self.state_size = state_size\n",
        "    self.action_size = action_size\n",
        "\n",
        "    self.local_qnetwork = Network(state_size,action_size).to(self.device)\n",
        "    self.target_qnetwork = Network(state_size,action_size).to(self.device)\n",
        "\n",
        "    self.optimizer = optim.Adam(self.local_qnetwork.parameters(),lr=learning_rate)\n",
        "    self.memory = replayMemory(replay_buffer_size)\n",
        "    self.t_step = 0\n",
        "\n",
        "  def step(self, state,action,reward,next_state,done):\n",
        "    self.memory.push((state,action,reward,next_state,done))\n",
        "    #every 4 step we learn\n",
        "    self.t_step = (self.t_step +1) % 4\n",
        "\n",
        "    if self.t_step == 0:\n",
        "      #check the memory size is larger than the minibatch size because we learn on batches\n",
        "      if len(self.memory.memory) > minibatch_size:\n",
        "        experiences = self.memory.sample(minibatch_size)\n",
        "        self.learn(experiences,gamma)\n",
        "\n",
        "  def act(self,state,epsilon = 0.0):\n",
        "    #adding a new dimension for the batch at the begging of the torch sensor\n",
        "    state = torch.from_numpy(state).float().unsqueeze(0).to(self.device)\n",
        "    self.local_qnetwork.eval()\n",
        "    with torch.no_grad():\n",
        "      action_values = self.local_qnetwork(state)\n",
        "\n",
        "    self.local_qnetwork.train()\n",
        "\n",
        "    #epsilon greedy policy\n",
        "    if random.random() > epsilon:\n",
        "      return np.argmax(action_values.cpu().data.numpy())\n",
        "    else:\n",
        "      return random.choice(np.arange(self.action_size))\n",
        "\n",
        "  def learn(self,experiences,gamma):\n",
        "    states,next_states,actions,rewards,dones = experiences\n",
        "    #we need to add a dimension for the batch but this time at dimension 1 for the action values\n",
        "    next_q_targets = self.target_qnetwork(next_states).detach().max(1)[0].unsqueeze(1)\n",
        "    q_targets = rewards + (gamma * next_q_targets * (1-dones))\n",
        "    q_expected = self.local_qnetwork(states).gather(1,actions)\n",
        "    loss = F.mse_loss(q_expected,q_targets)\n",
        "    self.optimizer.zero_grad()\n",
        "    loss.backward()\n",
        "    self.optimizer.step()\n",
        "    self.soft_update(self.local_qnetwork,self.target_qnetwork,interpolation_parameter_tau)\n",
        "\n",
        "  def soft_update(self,local_model,target_model,tau):\n",
        "    for target_param,local_param in zip(target_model.parameters(),local_model.parameters()):\n",
        "      target_param.data.copy_(tau * local_param.data + (1.0-tau) * target_param.data)\n",
        "\n",
        "\n"
      ],
      "metadata": {
        "id": "iokmjTKJ9E3U"
      },
      "execution_count": null,
      "outputs": []
    },
    {
      "cell_type": "markdown",
      "metadata": {
        "id": "o1tZElccZmf6"
      },
      "source": [
        "### Initializing the DQN agent"
      ]
    },
    {
      "cell_type": "code",
      "source": [
        "agent = Agent(state_size,number_actions)"
      ],
      "metadata": {
        "id": "cGbpJJvLjmIw"
      },
      "execution_count": null,
      "outputs": []
    },
    {
      "cell_type": "markdown",
      "metadata": {
        "id": "E8v0PtUfaVQp"
      },
      "source": [
        "### Training the DQN agent"
      ]
    },
    {
      "cell_type": "code",
      "source": [
        "number_episodes = 2000\n",
        "maximum_number_timesteps_per_episode = 1000\n",
        "epsilon_start_value = 1.0\n",
        "epsilon_final_value = 0.01\n",
        "epsilon_decay_rate = 0.997\n",
        "epsilon = epsilon_start_value\n",
        "scores_on_100_episodes = deque(maxlen=100)"
      ],
      "metadata": {
        "id": "2ybZW6Im-Bwj"
      },
      "execution_count": null,
      "outputs": []
    },
    {
      "cell_type": "code",
      "source": [
        "for episode in range(1,number_episodes + 1):\n",
        "  #returns the inital state\n",
        "  state,_ = env.reset()\n",
        "  #cumulative reward\n",
        "  score=0\n",
        "  for t in range(maximum_number_timesteps_per_episode):\n",
        "    action = agent.act(state,epsilon)\n",
        "    next_state,reward,done,_ ,_= env.step(action)\n",
        "    agent.step(state,action,reward,next_state,done)\n",
        "    state = next_state\n",
        "    score += reward\n",
        "    if done:\n",
        "      break\n",
        "  scores_on_100_episodes.append(score)\n",
        "  epsilon = max(epsilon_final_value,epsilon * epsilon_decay_rate)\n",
        "  print('\\rEpisode {}\\tAverage Score: {:.2f}'.format(episode, np.mean(scores_on_100_episodes)), end=\"\")\n",
        "  if episode % 100 == 0:\n",
        "    print('\\rEpisode {}\\tAverage Score: {:.2f}'.format(episode, np.mean(scores_on_100_episodes)))\n",
        "  if np.mean(scores_on_100_episodes) >= 200.0:\n",
        "    print('\\nEnvironment solved in {:d} episodes!\\tAverage Score: {:.2f}'.format(episode-100, np.mean(scores_on_100_episodes)))\n",
        "    torch.save(agent.local_qnetwork.state_dict(), 'checkpoint.pth')\n",
        "    break"
      ],
      "metadata": {
        "colab": {
          "base_uri": "https://localhost:8080/"
        },
        "id": "vfJ5MzoKgnTC",
        "outputId": "8ea6c653-cd0d-4e67-fba5-31075686ac28"
      },
      "execution_count": null,
      "outputs": [
        {
          "output_type": "stream",
          "name": "stdout",
          "text": [
            "Episode 100\tAverage Score: -119.15\n",
            "Episode 200\tAverage Score: -55.66\n",
            "Episode 300\tAverage Score: -17.73\n",
            "Episode 400\tAverage Score: 29.97\n",
            "Episode 500\tAverage Score: 118.49\n",
            "Episode 600\tAverage Score: 156.32\n",
            "Episode 700\tAverage Score: 175.78\n",
            "Episode 744\tAverage Score: 203.58\n",
            "Environment solved in 644 episodes!\tAverage Score: 203.58\n"
          ]
        }
      ]
    },
    {
      "cell_type": "markdown",
      "metadata": {
        "id": "O8CNwdOTcCoP"
      },
      "source": [
        "## Part 3 - Visualizing the results"
      ]
    },
    {
      "cell_type": "code",
      "execution_count": null,
      "metadata": {
        "id": "cb9nVvU2Okhk",
        "colab": {
          "base_uri": "https://localhost:8080/",
          "height": 459
        },
        "outputId": "a272bf27-3834-4857-cc3a-e209ee8abfad"
      },
      "outputs": [
        {
          "output_type": "stream",
          "name": "stderr",
          "text": [
            "WARNING:imageio_ffmpeg:IMAGEIO FFMPEG_WRITER WARNING: input image is not divisible by macro_block_size=16, resizing from (600, 400) to (608, 400) to ensure video compatibility with most codecs and players. To prevent resizing, make your input image divisible by the macro_block_size or set the macro_block_size to 1 (risking incompatibility).\n"
          ]
        },
        {
          "output_type": "display_data",
          "data": {
            "text/plain": [
              "<IPython.core.display.HTML object>"
            ],
            "text/html": [
              "<video alt=\"test\" autoplay\n",
              "                loop controls style=\"height: 400px;\">\n",
              "                <source src=\"data:video/mp4;base64,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\" type=\"video/mp4\" />\n",
              "             </video>"
            ]
          },
          "metadata": {}
        }
      ],
      "source": [
        "import glob\n",
        "import io\n",
        "import base64\n",
        "import imageio\n",
        "from IPython.display import HTML, display\n",
        "from gym.wrappers.monitoring.video_recorder import VideoRecorder\n",
        "\n",
        "def show_video_of_model(agent, env_name):\n",
        "    env = gym.make(env_name, render_mode='rgb_array')\n",
        "    state, _ = env.reset()\n",
        "    done = False\n",
        "    frames = []\n",
        "    while not done:\n",
        "        frame = env.render()\n",
        "        frames.append(frame)\n",
        "        action = agent.act(state)\n",
        "        state, reward, done, _, _ = env.step(action.item())\n",
        "    env.close()\n",
        "    imageio.mimsave('video.mp4', frames, fps=30)\n",
        "\n",
        "show_video_of_model(agent, 'LunarLander-v2')\n",
        "\n",
        "def show_video():\n",
        "    mp4list = glob.glob('*.mp4')\n",
        "    if len(mp4list) > 0:\n",
        "        mp4 = mp4list[0]\n",
        "        video = io.open(mp4, 'r+b').read()\n",
        "        encoded = base64.b64encode(video)\n",
        "        display(HTML(data='''<video alt=\"test\" autoplay\n",
        "                loop controls style=\"height: 400px;\">\n",
        "                <source src=\"data:video/mp4;base64,{0}\" type=\"video/mp4\" />\n",
        "             </video>'''.format(encoded.decode('ascii'))))\n",
        "    else:\n",
        "        print(\"Could not find video\")\n",
        "\n",
        "show_video()"
      ]
    },
    {
      "cell_type": "code",
      "source": [],
      "metadata": {
        "id": "iyUlgSeOnGwU"
      },
      "execution_count": null,
      "outputs": []
    }
  ],
  "metadata": {
    "colab": {
      "provenance": []
    },
    "kernelspec": {
      "display_name": "Python 3",
      "name": "python3"
    },
    "language_info": {
      "name": "python"
    }
  },
  "nbformat": 4,
  "nbformat_minor": 0
}